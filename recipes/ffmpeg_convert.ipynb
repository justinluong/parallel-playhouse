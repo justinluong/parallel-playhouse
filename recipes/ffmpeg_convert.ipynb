{
 "cells": [
  {
   "cell_type": "markdown",
   "metadata": {},
   "source": [
    "# Convert a directory of files using FFMPEG"
   ]
  },
  {
   "cell_type": "code",
   "execution_count": null,
   "metadata": {},
   "outputs": [],
   "source": [
    "### Setup ###\n",
    "\n",
    "import subprocess\n",
    "import parallel_playhouse.constants as c\n",
    "\n",
    "source_dir = c.DATA_DIR / \"test_set\"\n",
    "output_dir = source_dir / \"converted\"\n",
    "output_dir.mkdir(exist_ok=True)"
   ]
  },
  {
   "cell_type": "markdown",
   "metadata": {},
   "source": [
    "### Paralle Command\n",
    "\n",
    "The below command converts all files in a directory to an audio format.\n",
    "\n",
    "`*`: Parallel will glob match all files and directories in the cwd as input\n",
    "\n",
    "`-i`: Specifies input file for ffmpeg\n",
    "\n",
    "`-ar`: Specifies sampling rate for ffmpeg\n",
    "\n",
    "`{}`: Parallel passes in an input item to ffmpeg\n",
    "\n",
    "`{.}`: Parallel passes in an input item without file extension to ffmpeg"
   ]
  },
  {
   "cell_type": "code",
   "execution_count": null,
   "metadata": {},
   "outputs": [],
   "source": [
    "cmd = \"parallel ffmpeg -i {} -ar 16000 converted/{.}.wav ::: *\""
   ]
  },
  {
   "cell_type": "code",
   "execution_count": null,
   "metadata": {},
   "outputs": [],
   "source": [
    "subprocess.run(cmd, cwd=source_dir, shell=True)"
   ]
  },
  {
   "cell_type": "code",
   "execution_count": null,
   "metadata": {},
   "outputs": [],
   "source": []
  },
  {
   "cell_type": "code",
   "execution_count": null,
   "metadata": {},
   "outputs": [],
   "source": []
  }
 ],
 "metadata": {
  "kernelspec": {
   "display_name": ".venv",
   "language": "python",
   "name": "python3"
  },
  "language_info": {
   "codemirror_mode": {
    "name": "ipython",
    "version": 3
   },
   "file_extension": ".py",
   "mimetype": "text/x-python",
   "name": "python",
   "nbconvert_exporter": "python",
   "pygments_lexer": "ipython3",
   "version": "3.10.9"
  }
 },
 "nbformat": 4,
 "nbformat_minor": 2
}
