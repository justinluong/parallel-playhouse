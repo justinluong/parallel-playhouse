{
 "cells": [
  {
   "cell_type": "markdown",
   "metadata": {},
   "source": [
    "Search through a directory of json files for a specific shopper id and return the shopper's data."
   ]
  },
  {
   "cell_type": "code",
   "execution_count": 16,
   "metadata": {},
   "outputs": [],
   "source": [
    "import parallel_playhouse.constants as c\n",
    "\n",
    "### Notebook Parameters ###\n",
    "\n",
    "dir = c.DATA_DIR / \"search_json\"\n",
    "generate_data_flag = True\n",
    "\n",
    "shopper_id = 500 # Shopper Id to use for the search\n",
    "\n",
    "### Setup ###\n",
    "\n",
    "dir.mkdir(parents=True, exist_ok=True)"
   ]
  },
  {
   "cell_type": "markdown",
   "metadata": {},
   "source": [
    "## Generate Data"
   ]
  },
  {
   "cell_type": "code",
   "execution_count": 17,
   "metadata": {},
   "outputs": [],
   "source": [
    "import random\n",
    "from pathlib import Path\n",
    "\n",
    "\n",
    "def generate_data(\n",
    "    destination_dir: Path,\n",
    "    num_files: int = 20,\n",
    "    shoppers_per_file: int = 50,\n",
    "    products_per_shopper: int = 100,\n",
    ") -> None:\n",
    "    shopper_ids = list(range(num_files * shoppers_per_file))\n",
    "    random.shuffle(shopper_ids)\n",
    "\n",
    "    for file in range(num_files):\n",
    "        file_path = destination_dir / f\"shoppers_{file}.json\"\n",
    "        with open(file_path, \"w\") as f:\n",
    "            for _ in range(shoppers_per_file):\n",
    "                shopper_id = shopper_ids.pop()\n",
    "                products = list(range(products_per_shopper))\n",
    "                random.shuffle(products)\n",
    "                f.write(\n",
    "                    f'{{\"shopper_id\": {shopper_id}, \"products\": {products}}}\\n'\n",
    "                )\n",
    "\n",
    "if generate_data_flag:\n",
    "    generate_data(dir)"
   ]
  },
  {
   "cell_type": "markdown",
   "metadata": {},
   "source": [
    "## Parallel Search Json"
   ]
  },
  {
   "cell_type": "code",
   "execution_count": 27,
   "metadata": {},
   "outputs": [
    {
     "name": "stdout",
     "output_type": "stream",
     "text": [
      "\n",
      "parallel \"grep '\\\"shopper_id\\\": 500'\" ::: *.json > basic_output.txt\n",
      "\n"
     ]
    }
   ],
   "source": [
    "import subprocess\n",
    "\n",
    "command = fr\"\"\"\n",
    "parallel \"grep '\\\"shopper_id\\\": {shopper_id}'\" ::: *.json > basic_output.txt\n",
    "\"\"\"\n",
    "print(command)\n",
    "output = subprocess.run(command, shell=True, cwd=dir, capture_output=True)"
   ]
  },
  {
   "cell_type": "markdown",
   "metadata": {},
   "source": [
    "The command finds all json files through glob expansion then uses grep match lines with the right shopper id.\n",
    "We then pass these into parallel, by default each value will be passed as the last argument to the command.\n",
    "If we wrap the command to be paralleld in double quotes, we can escape double quotes inside the command with backslash.\n",
    "We then pipe all matched lines to the output file. There should only be one."
   ]
  },
  {
   "cell_type": "code",
   "execution_count": 31,
   "metadata": {},
   "outputs": [
    {
     "name": "stdout",
     "output_type": "stream",
     "text": [
      "\n",
      "parallel \"grep -H '\\\"shopper_id\\\": 500' {} | sed 's/:/\\n/'\" ::: *.json > tidy_output.txt\n",
      "\n"
     ]
    }
   ],
   "source": [
    "command = fr\"\"\"\n",
    "parallel \"grep -H '\\\"shopper_id\\\": {shopper_id}' {{}} | sed 's/:/\\n/'\" ::: *.json > tidy_output.txt\n",
    "\"\"\"\n",
    "print(command)\n",
    "output = subprocess.run(command, shell=True, cwd=dir, capture_output=True)"
   ]
  },
  {
   "cell_type": "markdown",
   "metadata": {},
   "source": [
    "Here we tidy the output a little. We use -H to include the file name with each matched line.\n",
    "Then we pipe that into stream edit which replaces the colon in front of the file name with a new line character.\n",
    "Here we need to use {} to denote where to place the value as it doesn't go at the end of the command."
   ]
  }
 ],
 "metadata": {
  "kernelspec": {
   "display_name": ".venv",
   "language": "python",
   "name": "python3"
  },
  "language_info": {
   "codemirror_mode": {
    "name": "ipython",
    "version": 3
   },
   "file_extension": ".py",
   "mimetype": "text/x-python",
   "name": "python",
   "nbconvert_exporter": "python",
   "pygments_lexer": "ipython3",
   "version": "3.10.9"
  }
 },
 "nbformat": 4,
 "nbformat_minor": 2
}
